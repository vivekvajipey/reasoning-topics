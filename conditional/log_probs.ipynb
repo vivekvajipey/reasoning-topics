{
 "cells": [
  {
   "cell_type": "code",
   "execution_count": 1,
   "metadata": {},
   "outputs": [
    {
     "name": "stderr",
     "output_type": "stream",
     "text": [
      "/Users/vivekvajipey/miniconda3/envs/reasoning/lib/python3.10/site-packages/tqdm/auto.py:21: TqdmWarning: IProgress not found. Please update jupyter and ipywidgets. See https://ipywidgets.readthedocs.io/en/stable/user_install.html\n",
      "  from .autonotebook import tqdm as notebook_tqdm\n"
     ]
    }
   ],
   "source": [
    "import csv\n",
    "import numpy as np\n",
    "import pandas as pd\n",
    "import os\n",
    "import re\n",
    "from dotenv import load_dotenv\n",
    "from openai import OpenAI\n",
    "from datasets import load_dataset\n",
    "import openai\n",
    "load_dotenv()\n",
    "openai.api_key = os.environ.get(\"REASONING_API_KEY\")\n",
    "if not openai.api_key:\n",
    "    raise ValueError(\"API Key for OpenAI not set!\")\n",
    "client = OpenAI(api_key=os.environ.get(\"REASONING_API_KEY\"))"
   ]
  },
  {
   "cell_type": "code",
   "execution_count": null,
   "metadata": {},
   "outputs": [],
   "source": [
    "def query_gpt(prompt, temp):\n",
    "    message = [\n",
    "    {\"role\": \"system\", \"content\": \"You are a helpful assistant.\"},\n",
    "    {\"role\": \"user\", \"content\": f\"{prompt}\"}\n",
    "\n",
    "]\n",
    "    response = client.chat.completions.create(\n",
    "        model=\"gpt-3.5-turbo-0613\",\n",
    "        messages = message,\n",
    "        max_tokens=1024,\n",
    "        temperature=temp,\n",
    "        n=1,\n",
    "        stop=None,\n",
    "    )\n",
    "\n",
    "    return response.choices[0].message.content"
   ]
  },
  {
   "cell_type": "code",
   "execution_count": 9,
   "metadata": {},
   "outputs": [
    {
     "data": {
      "text/html": [
       "<div>\n",
       "<style scoped>\n",
       "    .dataframe tbody tr th:only-of-type {\n",
       "        vertical-align: middle;\n",
       "    }\n",
       "\n",
       "    .dataframe tbody tr th {\n",
       "        vertical-align: top;\n",
       "    }\n",
       "\n",
       "    .dataframe thead th {\n",
       "        text-align: right;\n",
       "    }\n",
       "</style>\n",
       "<table border=\"1\" class=\"dataframe\">\n",
       "  <thead>\n",
       "    <tr style=\"text-align: right;\">\n",
       "      <th></th>\n",
       "      <th>Problem Number</th>\n",
       "      <th>Question</th>\n",
       "      <th>Answer</th>\n",
       "      <th>CoT Response</th>\n",
       "      <th>CoT Sentences</th>\n",
       "      <th>CoT Steps</th>\n",
       "      <th>split</th>\n",
       "      <th>Paraphrased Question</th>\n",
       "      <th>Paraphrased CoT Steps</th>\n",
       "      <th>True Answer</th>\n",
       "      <th>Final Score</th>\n",
       "    </tr>\n",
       "  </thead>\n",
       "  <tbody>\n",
       "    <tr>\n",
       "      <th>0</th>\n",
       "      <td>0</td>\n",
       "      <td>Natalia sold clips to 48 of her friends in Apr...</td>\n",
       "      <td>Natalia sold 48/2 = &lt;&lt;48/2=24&gt;&gt;24 clips in May...</td>\n",
       "      <td>First, let's find out how many clips Natalia s...</td>\n",
       "      <td>**\\nFirst, let's find out how many clips Natal...</td>\n",
       "      <td>[First, let's find out how many clips Natalia ...</td>\n",
       "      <td>train</td>\n",
       "      <td>Derek collected seashells from 48 of his frien...</td>\n",
       "      <td>[First, we need to figure out the number of se...</td>\n",
       "      <td>72</td>\n",
       "      <td>1</td>\n",
       "    </tr>\n",
       "    <tr>\n",
       "      <th>1</th>\n",
       "      <td>1</td>\n",
       "      <td>Weng earns $12 an hour for babysitting. Yester...</td>\n",
       "      <td>Weng earns 12/60 = $&lt;&lt;12/60=0.2&gt;&gt;0.2 per minut...</td>\n",
       "      <td>To find out how much Weng earned, we need to c...</td>\n",
       "      <td>**\\nTo find out how much Weng earned, we need ...</td>\n",
       "      <td>[To find out how much Weng earned, we need to ...</td>\n",
       "      <td>train</td>\n",
       "      <td>Liam makes $12 per hour tutoring. He tutored f...</td>\n",
       "      <td>[First, we need to figure out Liam's earnings ...</td>\n",
       "      <td>10</td>\n",
       "      <td>1</td>\n",
       "    </tr>\n",
       "    <tr>\n",
       "      <th>2</th>\n",
       "      <td>2</td>\n",
       "      <td>Betty is saving money for a new wallet which c...</td>\n",
       "      <td>In the beginning, Betty has only 100 / 2 = $&lt;&lt;...</td>\n",
       "      <td>First, let's calculate how much money Betty ha...</td>\n",
       "      <td>**\\nFirst, let's calculate how much money Bett...</td>\n",
       "      <td>[First, let's calculate how much money Betty h...</td>\n",
       "      <td>train</td>\n",
       "      <td>Oliver is collecting stickers for his album wh...</td>\n",
       "      <td>[First, we need to figure out how many sticker...</td>\n",
       "      <td>5</td>\n",
       "      <td>1</td>\n",
       "    </tr>\n",
       "  </tbody>\n",
       "</table>\n",
       "</div>"
      ],
      "text/plain": [
       "   Problem Number                                           Question  \\\n",
       "0               0  Natalia sold clips to 48 of her friends in Apr...   \n",
       "1               1  Weng earns $12 an hour for babysitting. Yester...   \n",
       "2               2  Betty is saving money for a new wallet which c...   \n",
       "\n",
       "                                              Answer  \\\n",
       "0  Natalia sold 48/2 = <<48/2=24>>24 clips in May...   \n",
       "1  Weng earns 12/60 = $<<12/60=0.2>>0.2 per minut...   \n",
       "2  In the beginning, Betty has only 100 / 2 = $<<...   \n",
       "\n",
       "                                        CoT Response  \\\n",
       "0  First, let's find out how many clips Natalia s...   \n",
       "1  To find out how much Weng earned, we need to c...   \n",
       "2  First, let's calculate how much money Betty ha...   \n",
       "\n",
       "                                       CoT Sentences  \\\n",
       "0  **\\nFirst, let's find out how many clips Natal...   \n",
       "1  **\\nTo find out how much Weng earned, we need ...   \n",
       "2  **\\nFirst, let's calculate how much money Bett...   \n",
       "\n",
       "                                           CoT Steps  split  \\\n",
       "0  [First, let's find out how many clips Natalia ...  train   \n",
       "1  [To find out how much Weng earned, we need to ...  train   \n",
       "2  [First, let's calculate how much money Betty h...  train   \n",
       "\n",
       "                                Paraphrased Question  \\\n",
       "0  Derek collected seashells from 48 of his frien...   \n",
       "1  Liam makes $12 per hour tutoring. He tutored f...   \n",
       "2  Oliver is collecting stickers for his album wh...   \n",
       "\n",
       "                               Paraphrased CoT Steps  True Answer  Final Score  \n",
       "0  [First, we need to figure out the number of se...           72            1  \n",
       "1  [First, we need to figure out Liam's earnings ...           10            1  \n",
       "2  [First, we need to figure out how many sticker...            5            1  "
      ]
     },
     "execution_count": 9,
     "metadata": {},
     "output_type": "execute_result"
    }
   ],
   "source": [
    "import ast\n",
    "df = pd.read_csv('data/112_gsm8k_gpt35_cot_responses_autograded.csv')\n",
    "df['CoT Steps'] = df['CoT Steps'].apply(ast.literal_eval)\n",
    "df['Paraphrased CoT Steps'] = df['Paraphrased CoT Steps'].apply(ast.literal_eval)\n",
    "df.head(3)"
   ]
  },
  {
   "cell_type": "code",
   "execution_count": 8,
   "metadata": {},
   "outputs": [
    {
     "data": {
      "text/plain": [
       "\"Q:Natalia sold clips to 48 of her friends in April, and then she sold half as many clips in May. How many clips did Natalia sell altogether in April and May?\\nLet's think step by step.\\nA:\""
      ]
     },
     "execution_count": 8,
     "metadata": {},
     "output_type": "execute_result"
    }
   ],
   "source": [
    "prompt = f\"Q: {df.Question.tolist()[0]}\\nLet's think step by step.\\nA:\"\n",
    "prompt "
   ]
  },
  {
   "cell_type": "code",
   "execution_count": 11,
   "metadata": {},
   "outputs": [],
   "source": [
    "message = [\n",
    "    {\"role\": \"system\", \"content\": \"You are a helpful assistant.\"},\n",
    "    {\"role\": \"user\", \"content\": f\"{prompt}\"}\n",
    "]"
   ]
  },
  {
   "cell_type": "code",
   "execution_count": 12,
   "metadata": {},
   "outputs": [],
   "source": [
    "response = client.chat.completions.create(\n",
    "        model=\"gpt-3.5-turbo-0613\",\n",
    "        messages = message,\n",
    "        max_tokens=1024,\n",
    "        temperature=0.0,\n",
    "        n=1,\n",
    "        stop=None,\n",
    "        logprobs=True,\n",
    "        top_logprobs=5\n",
    "    )"
   ]
  },
  {
   "cell_type": "code",
   "execution_count": 20,
   "metadata": {},
   "outputs": [
    {
     "data": {
      "text/plain": [
       "True"
      ]
     },
     "execution_count": 20,
     "metadata": {},
     "output_type": "execute_result"
    }
   ],
   "source": [
    "response.choices[0].message.content == df['CoT Response'].tolist()[0]"
   ]
  },
  {
   "cell_type": "code",
   "execution_count": 40,
   "metadata": {},
   "outputs": [
    {
     "data": {
      "text/plain": [
       "116"
      ]
     },
     "execution_count": 40,
     "metadata": {},
     "output_type": "execute_result"
    }
   ],
   "source": [
    "# response.choices[0].logprobs.content\n",
    "len(response.choices[0].logprobs.content)"
   ]
  },
  {
   "cell_type": "code",
   "execution_count": 34,
   "metadata": {},
   "outputs": [
    {
     "data": {
      "text/plain": [
       "'First'"
      ]
     },
     "execution_count": 34,
     "metadata": {},
     "output_type": "execute_result"
    }
   ],
   "source": [
    "response.choices[0].logprobs.content[0].token"
   ]
  },
  {
   "cell_type": "code",
   "execution_count": 37,
   "metadata": {},
   "outputs": [],
   "source": [
    "import tiktoken"
   ]
  },
  {
   "cell_type": "code",
   "execution_count": 38,
   "metadata": {},
   "outputs": [],
   "source": [
    "# gpt_enc = tiktoken.get_encoding(\"cl100k_base\")\n",
    "gpt_enc = tiktoken.encoding_for_model(\"gpt-3.5-turbo-0613\")"
   ]
  },
  {
   "cell_type": "code",
   "execution_count": 41,
   "metadata": {},
   "outputs": [],
   "source": [
    "gpt_output = df['CoT Response'].tolist()[0]\n",
    "encoded_output = gpt_enc.encode(gpt_output)"
   ]
  },
  {
   "cell_type": "code",
   "execution_count": 42,
   "metadata": {},
   "outputs": [
    {
     "data": {
      "text/plain": [
       "116"
      ]
     },
     "execution_count": 42,
     "metadata": {},
     "output_type": "execute_result"
    }
   ],
   "source": [
    "len(encoded_output)"
   ]
  },
  {
   "cell_type": "code",
   "execution_count": 44,
   "metadata": {},
   "outputs": [],
   "source": [
    "steps = df['CoT Steps'].tolist()[0]"
   ]
  },
  {
   "cell_type": "code",
   "execution_count": 50,
   "metadata": {},
   "outputs": [
    {
     "name": "stdout",
     "output_type": "stream",
     "text": [
      "step 0:  56 0\n",
      "step:  First, let's find out how many clips Natalia sold in May. We know that she sold half as many clips in May as she did in April. So, if she sold 48 clips in April, she sold 48/2 = 24 clips in May.\n",
      "step 1:  44 56\n",
      "step:  To find out how many clips Natalia sold altogether in April and May, we add the number of clips she sold in April to the number of clips she sold in May.   48 + 24 = 72\n",
      "step 2:  16 100\n",
      "step:  Therefore, Natalia sold a total of 72 clips in April and May.\n",
      "total tokens:  116\n"
     ]
    }
   ],
   "source": [
    "total_tokens = 0\n",
    "for i, step in enumerate(steps):\n",
    "    encoded_step = gpt_enc.encode(step)\n",
    "    print(f\"step {i}: \", len(encoded_step), total_tokens)\n",
    "    print(\"step: \", step)\n",
    "    total_tokens += len(encoded_step)\n",
    "print(\"total tokens: \", total_tokens)"
   ]
  },
  {
   "cell_type": "code",
   "execution_count": 51,
   "metadata": {},
   "outputs": [
    {
     "data": {
      "text/plain": [
       "'Therefore'"
      ]
     },
     "execution_count": 51,
     "metadata": {},
     "output_type": "execute_result"
    }
   ],
   "source": [
    "response.choices[0].logprobs.content[100].token"
   ]
  },
  {
   "cell_type": "code",
   "execution_count": 69,
   "metadata": {},
   "outputs": [],
   "source": [
    "from collections import namedtuple\n",
    "TokenLogProb = namedtuple('TokenLogProb', ['token', 'logprob'])\n",
    "\n",
    "tokens_and_logprobs = [TokenLogProb(entry.token, entry.logprob) for entry in response.choices[0].logprobs.content]\n"
   ]
  },
  {
   "cell_type": "code",
   "execution_count": 60,
   "metadata": {},
   "outputs": [
    {
     "data": {
      "text/plain": [
       "116"
      ]
     },
     "execution_count": 60,
     "metadata": {},
     "output_type": "execute_result"
    }
   ],
   "source": [
    "len(tokens_and_logprobs)"
   ]
  },
  {
   "cell_type": "code",
   "execution_count": 61,
   "metadata": {},
   "outputs": [],
   "source": [
    "row = df.iloc[0]"
   ]
  },
  {
   "cell_type": "code",
   "execution_count": 70,
   "metadata": {},
   "outputs": [
    {
     "name": "stdout",
     "output_type": "stream",
     "text": [
      "cumulative tokens:  0\n",
      "step 0:  56\n",
      "step:  First, let's find out how many clips Natalia sold in May. We know that she sold half as many clips in May as she did in April. So, if she sold 48 clips in April, she sold 48/2 = 24 clips in May.\n",
      "step starting token:  First\n",
      "step ending token:  .\n",
      "\n",
      "\n",
      "cumulative tokens:  56\n",
      "step 1:  44\n",
      "step:  To find out how many clips Natalia sold altogether in April and May, we add the number of clips she sold in April to the number of clips she sold in May.   48 + 24 = 72\n",
      "step starting token:  To\n",
      "step ending token:  \n",
      "\n",
      "\n",
      "cumulative tokens:  100\n",
      "step 2:  16\n",
      "step:  Therefore, Natalia sold a total of 72 clips in April and May.\n",
      "step starting token:  Therefore\n",
      "step ending token:  .\n",
      "total tokens:  116\n"
     ]
    }
   ],
   "source": [
    "split_indices = []\n",
    "total_tokens = 0\n",
    "for i, step in enumerate(row['CoT Steps']):\n",
    "    print(\"cumulative tokens: \", total_tokens)\n",
    "    encoded_step = gpt_enc.encode(step)\n",
    "\n",
    "\n",
    "    print(f\"step {i}: \", len(encoded_step))\n",
    "    print(\"step: \", step)\n",
    "    start_index = total_tokens\n",
    "    print(\"step starting token: \", tokens_and_logprobs[start_index].token)\n",
    "    \n",
    "    total_tokens += len(encoded_step)\n",
    "    end_index = total_tokens - 1\n",
    "    split_indices.append((start_index, end_index))\n",
    "\n",
    "    print(\"step ending token: \", tokens_and_logprobs[end_index].token)\n",
    "print(\"total tokens: \", total_tokens)"
   ]
  },
  {
   "cell_type": "code",
   "execution_count": 71,
   "metadata": {},
   "outputs": [
    {
     "data": {
      "text/plain": [
       "[(0, 55), (56, 99), (100, 115)]"
      ]
     },
     "execution_count": 71,
     "metadata": {},
     "output_type": "execute_result"
    }
   ],
   "source": [
    "split_indices"
   ]
  },
  {
   "cell_type": "code",
   "execution_count": 72,
   "metadata": {},
   "outputs": [],
   "source": [
    "def get_split_indices(cot_tokens_and_logprobs, cot_steps, tokenizer):\n",
    "    split_indices = []\n",
    "    token_sum = 0\n",
    "    \n",
    "    for step in cot_steps:\n",
    "        start_index = token_sum\n",
    "        encoded_step = tokenizer.encode(step)\n",
    "        token_sum += len(encoded_step)\n",
    "        end_index = token_sum - 1\n",
    "        split_indices.append((start_index, end_index))\n",
    "    return split_indices "
   ]
  },
  {
   "cell_type": "code",
   "execution_count": 73,
   "metadata": {},
   "outputs": [
    {
     "data": {
      "text/plain": [
       "[(0, 55), (56, 99), (100, 115)]"
      ]
     },
     "execution_count": 73,
     "metadata": {},
     "output_type": "execute_result"
    }
   ],
   "source": [
    "split_indices = get_split_indices(tokens_and_logprobs, row['CoT Steps'], gpt_enc)"
   ]
  },
  {
   "cell_type": "code",
   "execution_count": 76,
   "metadata": {},
   "outputs": [
    {
     "data": {
      "text/plain": [
       "(56, 99)"
      ]
     },
     "execution_count": 76,
     "metadata": {},
     "output_type": "execute_result"
    }
   ],
   "source": [
    "start_index, end_index = split_indices[1]\n",
    "start_index, end_index"
   ]
  },
  {
   "cell_type": "code",
   "execution_count": 80,
   "metadata": {},
   "outputs": [
    {
     "data": {
      "text/plain": [
       "-0.15604184993850906"
      ]
     },
     "execution_count": 80,
     "metadata": {},
     "output_type": "execute_result"
    }
   ],
   "source": [
    "cur_logprobs = np.array([tokens_and_logprobs[i].logprob for i in range(start_index, end_index + 1)])\n",
    "cur_logprobs.mean()"
   ]
  },
  {
   "cell_type": "code",
   "execution_count": 81,
   "metadata": {},
   "outputs": [
    {
     "data": {
      "text/plain": [
       "116"
      ]
     },
     "execution_count": 81,
     "metadata": {},
     "output_type": "execute_result"
    }
   ],
   "source": [
    "log_probs_arr = [entry.logprob for entry in response.choices[0].logprobs.content]\n",
    "len(log_probs_arr)"
   ]
  },
  {
   "cell_type": "markdown",
   "metadata": {},
   "source": [
    "Michael Method"
   ]
  },
  {
   "cell_type": "code",
   "execution_count": 92,
   "metadata": {},
   "outputs": [],
   "source": [
    "def get_segment_ends(cot_steps, tokenizer, expected_total):\n",
    "    segment_ends = []\n",
    "    token_sum = 0\n",
    "    \n",
    "    for step in cot_steps:\n",
    "        encoded_step = tokenizer.encode(step)\n",
    "        token_sum += len(encoded_step)\n",
    "        segment_ends.append(token_sum)\n",
    "    assert token_sum == expected_total, f\"Wrong number of tokens in CoT Steps: expected {expected_total}, got {token_sum}\"\n",
    "    return segment_ends"
   ]
  },
  {
   "cell_type": "code",
   "execution_count": 98,
   "metadata": {},
   "outputs": [
    {
     "name": "stdout",
     "output_type": "stream",
     "text": [
      "Mean log prob for segment from 0 to 56: -0.12730754615481965\n",
      "Mean log prob for segment from 56 to 100: -0.15604184993850906\n",
      "Mean log prob for segment from 100 to 116: -0.0515566346777875\n"
     ]
    }
   ],
   "source": [
    "log_probs_arr = np.array([entry.logprob for entry in response.choices[0].logprobs.content]) # length 116\n",
    "segment_ends = get_segment_ends(row['CoT Steps'], gpt_enc, len(tokens_and_logprobs)) # [56, 100, 116]\n",
    "start = 0\n",
    "segment_means = []\n",
    "\n",
    "for end in segment_ends:\n",
    "    segment_log_probs = log_probs_arr[start : end]\n",
    "    segment_means.append(segment_log_probs.mean())\n",
    "    print(f'Mean log prob for segment from {start} to {end}: {segment_log_probs.mean()}')\n",
    "    start = end"
   ]
  }
 ],
 "metadata": {
  "kernelspec": {
   "display_name": "reasoning",
   "language": "python",
   "name": "python3"
  },
  "language_info": {
   "codemirror_mode": {
    "name": "ipython",
    "version": 3
   },
   "file_extension": ".py",
   "mimetype": "text/x-python",
   "name": "python",
   "nbconvert_exporter": "python",
   "pygments_lexer": "ipython3",
   "version": "3.10.13"
  }
 },
 "nbformat": 4,
 "nbformat_minor": 2
}
