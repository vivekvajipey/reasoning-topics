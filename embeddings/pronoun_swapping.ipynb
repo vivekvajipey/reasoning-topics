{
 "cells": [
  {
   "cell_type": "code",
   "execution_count": 1,
   "metadata": {},
   "outputs": [],
   "source": [
    "# Updated pronoun mapping\n",
    "pronoun_mapping = {\n",
    "    'male': {\n",
    "        'l_subject': ' he ', \n",
    "        'l_object': ' him ', \n",
    "        'l_possessive_adjective': ' his ', \n",
    "        'l_possessive_pronoun': ' his ', \n",
    "        'u_subject': ' He ', \n",
    "        'u_object': ' Him ', \n",
    "        'u_possessive_adjective': ' His ', \n",
    "        'u_possessive_pronoun': ' His '\n",
    "    },\n",
    "    'female': {\n",
    "        'l_subject': ' she ', \n",
    "        'l_object': ' her ', \n",
    "        'l_possessive_adjective': ' her ', \n",
    "        'l_possessive_pronoun': ' hers ', \n",
    "        'u_subject': ' She ', \n",
    "        'u_object': ' Her ', \n",
    "        'u_possessive_adjective': ' Her ', \n",
    "        'u_possessive_pronoun': ' Hers '\n",
    "    }\n",
    "}\n",
    "\n",
    "def substitute_pronouns(text, gender):\n",
    "    pronoun_map = pronoun_mapping[gender]\n",
    "    text = text.replace(' he ', pronoun_map['l_subject'])\\\n",
    "               .replace(' him ', pronoun_map['l_object'])\\\n",
    "               .replace(' his ', pronoun_map['l_possessive_adjective'])\\\n",
    "               .replace(' He ', pronoun_map['u_subject'])\\\n",
    "               .replace(' Him ', pronoun_map['u_object'])\\\n",
    "               .replace(' His ', pronoun_map['u_possessive_adjective'])\\\n",
    "               .replace(' she ', pronoun_map['l_subject'])\\\n",
    "               .replace(' her ', pronoun_map['l_object'])\\\n",
    "               .replace(' hers ', pronoun_map['l_possessive_pronoun'])\\\n",
    "               .replace(' She ', pronoun_map['u_subject'])\\\n",
    "               .replace(' Her ', pronoun_map['u_object'])\\\n",
    "               .replace(' Hers ', pronoun_map['u_possessive_pronoun'])\n",
    "    return text"
   ]
  },
  {
   "cell_type": "code",
   "execution_count": 3,
   "metadata": {},
   "outputs": [
    {
     "name": "stdout",
     "output_type": "stream",
     "text": [
      "Original: He found his book. It was his.\n",
      "Convert to Male: He found his book. It was his.\n",
      "Convert to Female: He found her book. It was his.\n",
      "\n",
      "Original: She found her book. It was hers.\n",
      "Convert to Male: She found him book. It was hers.\n",
      "Convert to Female: She found her book. It was hers.\n",
      "\n",
      "Original: He lost his keys. They were his.\n",
      "Convert to Male: He lost his keys. They were his.\n",
      "Convert to Female: He lost her keys. They were his.\n",
      "\n",
      "Original: She lost her keys. They were hers.\n",
      "Convert to Male: She lost him keys. They were hers.\n",
      "Convert to Female: She lost her keys. They were hers.\n",
      "\n"
     ]
    }
   ],
   "source": [
    "test_sentences = [\n",
    "    \"He found his book. It was his.\",\n",
    "    \"She found her book. It was hers.\",\n",
    "    \"He lost his keys. They were his.\",\n",
    "    \"She lost her keys. They were hers.\"\n",
    "]\n",
    "\n",
    "# Testing with both genders\n",
    "for sentence in test_sentences:\n",
    "    print(\"Original:\", sentence)\n",
    "    print(\"Convert to Male:\", substitute_pronouns(sentence, 'male'))\n",
    "    print(\"Convert to Female:\", substitute_pronouns(sentence, 'female'))\n",
    "    print()"
   ]
  },
  {
   "cell_type": "code",
   "execution_count": 4,
   "metadata": {},
   "outputs": [
    {
     "name": "stdout",
     "output_type": "stream",
     "text": [
      "Original: He found his book. It was his.\n",
      "Convert to Male: He found his book. It was  his .\n",
      "Convert to Female: He found his book. It was   hers  .\n",
      "\n",
      "Original: She found her book. It was hers.\n",
      "Convert to Male: She found him book. It was  his .\n",
      "Convert to Female: She found her book. It was  hers .\n",
      "\n",
      "Original: He lost his keys. They were his.\n",
      "Convert to Male: He lost his keys. They were  his .\n",
      "Convert to Female: He lost his keys. They were   hers  .\n",
      "\n",
      "Original: She lost her keys. They were hers.\n",
      "Convert to Male: She lost him keys. They were  his .\n",
      "Convert to Female: She lost her keys. They were  hers .\n",
      "\n"
     ]
    }
   ],
   "source": [
    "import re\n",
    "\n",
    "def substitute_pronouns(text, gender):\n",
    "    pronoun_map = pronoun_mapping[gender]\n",
    "\n",
    "    text = re.sub(r'\\bhis\\b(?!\\s+book|\\s+keys)', pronoun_map['l_possessive_pronoun'], text, flags=re.IGNORECASE)\n",
    "    text = re.sub(r'\\bher\\b(?!\\s+book|\\s+keys)', pronoun_map['l_possessive_adjective'], text, flags=re.IGNORECASE)\n",
    "    text = re.sub(r'\\bhers\\b', pronoun_map['l_possessive_pronoun'], text, flags=re.IGNORECASE)\n",
    "\n",
    "    text = text.replace(' he ', pronoun_map['l_subject'])\\\n",
    "               .replace(' him ', pronoun_map['l_object'])\\\n",
    "               .replace(' He ', pronoun_map['u_subject'])\\\n",
    "               .replace(' Him ', pronoun_map['u_object'])\\\n",
    "               .replace(' she ', pronoun_map['l_subject'])\\\n",
    "               .replace(' her ', pronoun_map['l_object'])\\\n",
    "               .replace(' She ', pronoun_map['u_subject'])\\\n",
    "               .replace(' Her ', pronoun_map['u_object'])\n",
    "\n",
    "    return text\n",
    "\n",
    "for sentence in test_sentences:\n",
    "    print(\"Original:\", sentence)\n",
    "    print(\"Convert to Male:\", substitute_pronouns(sentence, 'male'))\n",
    "    print(\"Convert to Female:\", substitute_pronouns(sentence, 'female'))\n",
    "    print()\n"
   ]
  }
 ],
 "metadata": {
  "kernelspec": {
   "display_name": "reasoning_venv",
   "language": "python",
   "name": "python3"
  },
  "language_info": {
   "codemirror_mode": {
    "name": "ipython",
    "version": 3
   },
   "file_extension": ".py",
   "mimetype": "text/x-python",
   "name": "python",
   "nbconvert_exporter": "python",
   "pygments_lexer": "ipython3",
   "version": "3.9.6"
  }
 },
 "nbformat": 4,
 "nbformat_minor": 2
}
