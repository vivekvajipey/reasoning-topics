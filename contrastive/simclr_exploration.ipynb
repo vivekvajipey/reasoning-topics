{
 "cells": [
  {
   "cell_type": "code",
   "execution_count": 66,
   "metadata": {},
   "outputs": [],
   "source": [
    "import pandas as pd\n",
    "from models import SimpleContrastiveNetwork, ContrastiveLoss\n",
    "import ast\n",
    "from sentence_transformers import SentenceTransformer\n",
    "import numpy as np\n",
    "import torch\n",
    "from torch.utils.data import DataLoader, Dataset"
   ]
  },
  {
   "cell_type": "code",
   "execution_count": 3,
   "metadata": {},
   "outputs": [],
   "source": [
    "df = pd.read_csv('data/simclr_data.csv')\n",
    "df['Positive'] = df['Positive'].apply(ast.literal_eval)\n",
    "df['Negative'] = df['Negative'].apply(ast.literal_eval)"
   ]
  },
  {
   "cell_type": "code",
   "execution_count": 54,
   "metadata": {},
   "outputs": [
    {
     "data": {
      "text/plain": [
       "'In April, Mohammad sold clips to 48 friends.\\nIn May, he sold half as many clips as in April.\\nTo find out how many clips he sold in May, we need to divide the number of clips sold in April by 2.\\n48 / 2 = 24\\nSo, Mohammad sold 24 clips in May.\\nTo find out how many clips he sold altogether in April and May, we need to add the number of clips sold in April and May.\\n48 + 24 = 72\\nTherefore, Mohammad sold a total of 72 clips in April and May.'"
      ]
     },
     "execution_count": 54,
     "metadata": {},
     "output_type": "execute_result"
    }
   ],
   "source": [
    "df['Original CoT'][0]"
   ]
  },
  {
   "cell_type": "code",
   "execution_count": 56,
   "metadata": {},
   "outputs": [
    {
     "data": {
      "text/html": [
       "<div>\n",
       "<style scoped>\n",
       "    .dataframe tbody tr th:only-of-type {\n",
       "        vertical-align: middle;\n",
       "    }\n",
       "\n",
       "    .dataframe tbody tr th {\n",
       "        vertical-align: top;\n",
       "    }\n",
       "\n",
       "    .dataframe thead th {\n",
       "        text-align: right;\n",
       "    }\n",
       "</style>\n",
       "<table border=\"1\" class=\"dataframe\">\n",
       "  <thead>\n",
       "    <tr style=\"text-align: right;\">\n",
       "      <th></th>\n",
       "      <th>Problem Number</th>\n",
       "      <th>Prompt</th>\n",
       "      <th>Original CoT</th>\n",
       "      <th>Changed Solution</th>\n",
       "      <th>Reasoning Trace</th>\n",
       "      <th>Positive</th>\n",
       "      <th>Negative</th>\n",
       "    </tr>\n",
       "  </thead>\n",
       "  <tbody>\n",
       "    <tr>\n",
       "      <th>0</th>\n",
       "      <td>1</td>\n",
       "      <td>Mohammad sold clips to 48 of his friends in Ap...</td>\n",
       "      <td>In April, Mohammad sold clips to 48 friends.\\n...</td>\n",
       "      <td>First, let's calculate how many clips Mohammad...</td>\n",
       "      <td>First, let's calculate how many clips Mohammad...</td>\n",
       "      <td>[First, let's calculate how many clips John so...</td>\n",
       "      <td>[Lastly, let's add the cost of the unicorn piñ...</td>\n",
       "    </tr>\n",
       "    <tr>\n",
       "      <th>1</th>\n",
       "      <td>1</td>\n",
       "      <td>Mohammad sold clips to 48 of his friends in Ap...</td>\n",
       "      <td>In April, Mohammad sold clips to 48 friends.\\n...</td>\n",
       "      <td>First, let's calculate how many clips Mohammad...</td>\n",
       "      <td>Now, let's find out how many clips he sold alt...</td>\n",
       "      <td>[Now, let's find out how many clips he sold al...</td>\n",
       "      <td>[Therefore, it will take Mohammad 5 hours to r...</td>\n",
       "    </tr>\n",
       "    <tr>\n",
       "      <th>2</th>\n",
       "      <td>1</td>\n",
       "      <td>Mohammad sold clips to 48 of his friends in Ap...</td>\n",
       "      <td>In April, Mohammad sold clips to 48 friends.\\n...</td>\n",
       "      <td>First, let's calculate how many clips Mohammad...</td>\n",
       "      <td>Therefore, Mohammad sold a total of 72 clips i...</td>\n",
       "      <td>[Therefore, John sold a total of 72 clips in A...</td>\n",
       "      <td>[Therefore, Mohammad practices for a total of ...</td>\n",
       "    </tr>\n",
       "    <tr>\n",
       "      <th>3</th>\n",
       "      <td>2</td>\n",
       "      <td>Mohammad earns $12 an hour for babysitting. Ye...</td>\n",
       "      <td>To find out how much Mohammad earned, we need ...</td>\n",
       "      <td>To find out how much Mohammad earned, we need ...</td>\n",
       "      <td>To find out how much Mohammad earned, we need ...</td>\n",
       "      <td>[To find out how much John earned, we need to ...</td>\n",
       "      <td>[Now, let's add up all the money Mohammad has ...</td>\n",
       "    </tr>\n",
       "    <tr>\n",
       "      <th>4</th>\n",
       "      <td>2</td>\n",
       "      <td>Mohammad earns $12 an hour for babysitting. Ye...</td>\n",
       "      <td>To find out how much Mohammad earned, we need ...</td>\n",
       "      <td>To find out how much Mohammad earned, we need ...</td>\n",
       "      <td>Now, let's multiply his earnings per minute by...</td>\n",
       "      <td>[Now, let's multiply his earnings per minute b...</td>\n",
       "      <td>[Therefore, the unicorn piñata and the treats ...</td>\n",
       "    </tr>\n",
       "    <tr>\n",
       "      <th>...</th>\n",
       "      <td>...</td>\n",
       "      <td>...</td>\n",
       "      <td>...</td>\n",
       "      <td>...</td>\n",
       "      <td>...</td>\n",
       "      <td>...</td>\n",
       "      <td>...</td>\n",
       "    </tr>\n",
       "    <tr>\n",
       "      <th>121</th>\n",
       "      <td>46</td>\n",
       "      <td>It's Mohammad's birthday party. His parents bo...</td>\n",
       "      <td>Sure! Let's break it down step by step.\\n\\nFir...</td>\n",
       "      <td>Sure! Let's calculate the cost of the treats f...</td>\n",
       "      <td>Therefore, the unicorn piñata and the treats c...</td>\n",
       "      <td>[Therefore, the unicorn piñata and the treats ...</td>\n",
       "      <td>[Next, let's calculate the number of DVDs sold...</td>\n",
       "    </tr>\n",
       "    <tr>\n",
       "      <th>122</th>\n",
       "      <td>47</td>\n",
       "      <td>Mohammad practices the piano for 20 minutes a ...</td>\n",
       "      <td>First, let's calculate how long Mohammad pract...</td>\n",
       "      <td>Step 1: Find out how long Mohammad practices t...</td>\n",
       "      <td>First, let's calculate how long Mohammad pract...</td>\n",
       "      <td>[First, let's calculate how long John practice...</td>\n",
       "      <td>[Now, let's calculate Mohammad's total pay for...</td>\n",
       "    </tr>\n",
       "    <tr>\n",
       "      <th>123</th>\n",
       "      <td>47</td>\n",
       "      <td>Mohammad practices the piano for 20 minutes a ...</td>\n",
       "      <td>First, let's calculate how long Mohammad pract...</td>\n",
       "      <td>Step 1: Find out how long Mohammad practices t...</td>\n",
       "      <td>Next, let's calculate how long Mohammad practi...</td>\n",
       "      <td>[Next, let's calculate how long John practices...</td>\n",
       "      <td>[Therefore, Mohammad was left with 160 valuabl...</td>\n",
       "    </tr>\n",
       "    <tr>\n",
       "      <th>124</th>\n",
       "      <td>47</td>\n",
       "      <td>Mohammad practices the piano for 20 minutes a ...</td>\n",
       "      <td>First, let's calculate how long Mohammad pract...</td>\n",
       "      <td>Step 1: Find out how long Mohammad practices t...</td>\n",
       "      <td>Finally, let's calculate how long Mohammad pra...</td>\n",
       "      <td>[Finally, let's calculate how long John practi...</td>\n",
       "      <td>[Step 9: Answer the question. Mohammad shovele...</td>\n",
       "    </tr>\n",
       "    <tr>\n",
       "      <th>125</th>\n",
       "      <td>47</td>\n",
       "      <td>Mohammad practices the piano for 20 minutes a ...</td>\n",
       "      <td>First, let's calculate how long Mohammad pract...</td>\n",
       "      <td>Step 1: Find out how long Mohammad practices t...</td>\n",
       "      <td>Therefore, Mohammad practices for a total of 1...</td>\n",
       "      <td>[Therefore, John practices for a total of 1920...</td>\n",
       "      <td>[First, let's calculate how long Mohammad prac...</td>\n",
       "    </tr>\n",
       "  </tbody>\n",
       "</table>\n",
       "<p>126 rows × 7 columns</p>\n",
       "</div>"
      ],
      "text/plain": [
       "     Problem Number                                             Prompt  \\\n",
       "0                 1  Mohammad sold clips to 48 of his friends in Ap...   \n",
       "1                 1  Mohammad sold clips to 48 of his friends in Ap...   \n",
       "2                 1  Mohammad sold clips to 48 of his friends in Ap...   \n",
       "3                 2  Mohammad earns $12 an hour for babysitting. Ye...   \n",
       "4                 2  Mohammad earns $12 an hour for babysitting. Ye...   \n",
       "..              ...                                                ...   \n",
       "121              46  It's Mohammad's birthday party. His parents bo...   \n",
       "122              47  Mohammad practices the piano for 20 minutes a ...   \n",
       "123              47  Mohammad practices the piano for 20 minutes a ...   \n",
       "124              47  Mohammad practices the piano for 20 minutes a ...   \n",
       "125              47  Mohammad practices the piano for 20 minutes a ...   \n",
       "\n",
       "                                          Original CoT  \\\n",
       "0    In April, Mohammad sold clips to 48 friends.\\n...   \n",
       "1    In April, Mohammad sold clips to 48 friends.\\n...   \n",
       "2    In April, Mohammad sold clips to 48 friends.\\n...   \n",
       "3    To find out how much Mohammad earned, we need ...   \n",
       "4    To find out how much Mohammad earned, we need ...   \n",
       "..                                                 ...   \n",
       "121  Sure! Let's break it down step by step.\\n\\nFir...   \n",
       "122  First, let's calculate how long Mohammad pract...   \n",
       "123  First, let's calculate how long Mohammad pract...   \n",
       "124  First, let's calculate how long Mohammad pract...   \n",
       "125  First, let's calculate how long Mohammad pract...   \n",
       "\n",
       "                                      Changed Solution  \\\n",
       "0    First, let's calculate how many clips Mohammad...   \n",
       "1    First, let's calculate how many clips Mohammad...   \n",
       "2    First, let's calculate how many clips Mohammad...   \n",
       "3    To find out how much Mohammad earned, we need ...   \n",
       "4    To find out how much Mohammad earned, we need ...   \n",
       "..                                                 ...   \n",
       "121  Sure! Let's calculate the cost of the treats f...   \n",
       "122  Step 1: Find out how long Mohammad practices t...   \n",
       "123  Step 1: Find out how long Mohammad practices t...   \n",
       "124  Step 1: Find out how long Mohammad practices t...   \n",
       "125  Step 1: Find out how long Mohammad practices t...   \n",
       "\n",
       "                                       Reasoning Trace  \\\n",
       "0    First, let's calculate how many clips Mohammad...   \n",
       "1    Now, let's find out how many clips he sold alt...   \n",
       "2    Therefore, Mohammad sold a total of 72 clips i...   \n",
       "3    To find out how much Mohammad earned, we need ...   \n",
       "4    Now, let's multiply his earnings per minute by...   \n",
       "..                                                 ...   \n",
       "121  Therefore, the unicorn piñata and the treats c...   \n",
       "122  First, let's calculate how long Mohammad pract...   \n",
       "123  Next, let's calculate how long Mohammad practi...   \n",
       "124  Finally, let's calculate how long Mohammad pra...   \n",
       "125  Therefore, Mohammad practices for a total of 1...   \n",
       "\n",
       "                                              Positive  \\\n",
       "0    [First, let's calculate how many clips John so...   \n",
       "1    [Now, let's find out how many clips he sold al...   \n",
       "2    [Therefore, John sold a total of 72 clips in A...   \n",
       "3    [To find out how much John earned, we need to ...   \n",
       "4    [Now, let's multiply his earnings per minute b...   \n",
       "..                                                 ...   \n",
       "121  [Therefore, the unicorn piñata and the treats ...   \n",
       "122  [First, let's calculate how long John practice...   \n",
       "123  [Next, let's calculate how long John practices...   \n",
       "124  [Finally, let's calculate how long John practi...   \n",
       "125  [Therefore, John practices for a total of 1920...   \n",
       "\n",
       "                                              Negative  \n",
       "0    [Lastly, let's add the cost of the unicorn piñ...  \n",
       "1    [Therefore, it will take Mohammad 5 hours to r...  \n",
       "2    [Therefore, Mohammad practices for a total of ...  \n",
       "3    [Now, let's add up all the money Mohammad has ...  \n",
       "4    [Therefore, the unicorn piñata and the treats ...  \n",
       "..                                                 ...  \n",
       "121  [Next, let's calculate the number of DVDs sold...  \n",
       "122  [Now, let's calculate Mohammad's total pay for...  \n",
       "123  [Therefore, Mohammad was left with 160 valuabl...  \n",
       "124  [Step 9: Answer the question. Mohammad shovele...  \n",
       "125  [First, let's calculate how long Mohammad prac...  \n",
       "\n",
       "[126 rows x 7 columns]"
      ]
     },
     "execution_count": 56,
     "metadata": {},
     "output_type": "execute_result"
    }
   ],
   "source": []
  },
  {
   "cell_type": "code",
   "execution_count": 63,
   "metadata": {},
   "outputs": [
    {
     "name": "stdout",
     "output_type": "stream",
     "text": [
      "REASONING STEP 1:  First, let's calculate how many clips Mohammad sold in May. We know that he sold half as many clips in May as he did in April. To find this out, we need to divide the number of clips sold in April by 2.  48 / 2 = 24  So, Mohammad sold 24 clips in May.\n",
      "REASONING STEP 2:  Now, let's find out how many clips he sold altogether in April and May. To do this, we need to add the number of clips sold in April and the number of clips sold in May.  48 + 24 = 72\n",
      "REASONING STEP 3:  Therefore, Mohammad sold a total of 72 clips in April and May.\n"
     ]
    }
   ],
   "source": [
    "for i in range(3):\n",
    "    print(f\"REASONING STEP {i + 1}: \", df['Reasoning Trace'][i])"
   ]
  },
  {
   "cell_type": "code",
   "execution_count": 64,
   "metadata": {},
   "outputs": [
    {
     "name": "stdout",
     "output_type": "stream",
     "text": [
      "POSITIVE EXAMPLES:\n",
      "1 First, let's calculate how many clips John sold in May. We know that he sold half as many clips in May as he did in April. To find this out, we need to divide the number of clips sold in April by 2.  48 / 2 = 24  So, John sold 24 clips in May.\n",
      "2 First, let's calculate how many clips Susan sold in May. We know that he sold half as many clips in May as he did in April. To find this out, we need to divide the number of clips sold in April by 2.  48 / 2 = 24  So, Susan sold 24 clips in May.\n",
      "3 First, let's calculate how many clips Betty sold in May. We know that he sold half as many clips in May as he did in April. To find this out, we need to divide the number of clips sold in April by 2.  48 / 2 = 24  So, Betty sold 24 clips in May.\n",
      "4 First, let's calculate how many clips Adam sold in May. We know that he sold half as many clips in May as he did in April. To find this out, we need to divide the number of clips sold in April by 2.  48 / 2 = 24  So, Adam sold 24 clips in May.\n",
      "5 First, let's calculate how many clips Bob sold in May. We know that he sold half as many clips in May as he did in April. To find this out, we need to divide the number of clips sold in April by 2.  48 / 2 = 24  So, Bob sold 24 clips in May.\n",
      "6 First, let's calculate how many clips Alice sold in May. We know that he sold half as many clips in May as he did in April. To find this out, we need to divide the number of clips sold in April by 2.  48 / 2 = 24  So, Alice sold 24 clips in May.\n",
      "NEGATIVE EXAMPLES\n",
      "1 Lastly, let's add the cost of the unicorn piñata. The piñata cost $13.\n",
      "2 Step 2: Mohammad added enough brownies to cause the weight to triple. This means the weight became 2 * 3 = 6 pounds.\n",
      "3 Therefore, Mohammad spends $300 on coursework materials.\n",
      "4 Step 3: Calculate the amount Mohammad needs to pay before his next shopping trip. The amount Mohammad needs to pay is the remaining credit limit, which is $62.\n",
      "5 Finally, let's calculate the profit made in 20 weeks. The profit made in 20 weeks is the profit made in a week multiplied by the number of weeks. So, the profit made in 20 weeks is $22500 * 20 = $450000.\n",
      "6 Therefore, Mohammad makes $990.00 in total for the week.\n",
      "\n",
      "\n"
     ]
    }
   ],
   "source": [
    "for i, row in df[:1].iterrows():\n",
    "    print(\"POSITIVE EXAMPLES:\")\n",
    "    for i in range(len(row['Positive'])):\n",
    "        print(i+1, row['Positive'][i])\n",
    "    print(\"NEGATIVE EXAMPLES\")\n",
    "    for i in range(len(row['Negative'])):\n",
    "        print(i+1, row['Negative'][i])\n",
    "    print()\n",
    "    print()"
   ]
  },
  {
   "cell_type": "code",
   "execution_count": 26,
   "metadata": {},
   "outputs": [
    {
     "name": "stdout",
     "output_type": "stream",
     "text": [
      "<class 'numpy.ndarray'> (384,)\n"
     ]
    }
   ],
   "source": [
    "sent_transformer = SentenceTransformer('all-MiniLM-L6-v2')\n",
    "embedding = sent_transformer.encode(\"Attention is all you need.\")\n",
    "print(type(embedding), embedding.shape)"
   ]
  },
  {
   "cell_type": "code",
   "execution_count": 27,
   "metadata": {},
   "outputs": [
    {
     "name": "stdout",
     "output_type": "stream",
     "text": [
      "tensor([1.], device='mps:0')\n"
     ]
    }
   ],
   "source": [
    "import torch\n",
    "\n",
    "if torch.backends.mps.is_available():\n",
    "    device = torch.device(\"mps\")\n",
    "    x = torch.ones(1, device=device)\n",
    "    print (x)\n",
    "else:\n",
    "    print(\"MPS device not found, falling back to CPU.\")\n",
    "    device = torch.device(\"cpu\")"
   ]
  },
  {
   "cell_type": "code",
   "execution_count": 28,
   "metadata": {},
   "outputs": [],
   "source": [
    "sent_transformer = SentenceTransformer('all-MiniLM-L6-v2')\n",
    "\n",
    "def encode_sentences(sent_transformer, sentences):\n",
    "    return sent_transformer.encode(sentences, batch_size=32)\n",
    "\n",
    "# Prepare dataset\n",
    "def prepare_data(df):\n",
    "    pos_embeddings = []\n",
    "    neg_embeddings = []\n",
    "    for _, row in df.iterrows():\n",
    "        pos_sentences = row['Positive']\n",
    "        neg_sentences = row['Negative']\n",
    "        # Encode sentences\n",
    "        pos_embeddings.append(encode_sentences(sent_transformer, pos_sentences))\n",
    "        neg_embeddings.append(encode_sentences(sent_transformer, neg_sentences))\n",
    "    return np.array(pos_embeddings), np.array(neg_embeddings)"
   ]
  },
  {
   "cell_type": "code",
   "execution_count": 29,
   "metadata": {},
   "outputs": [],
   "source": [
    "pos_embeddings, neg_embeddings = prepare_data(df)"
   ]
  },
  {
   "cell_type": "code",
   "execution_count": 34,
   "metadata": {},
   "outputs": [],
   "source": [
    "model = SimpleContrastiveNetwork().to(device)\n",
    "contrastive_loss = ContrastiveLoss().to(device)"
   ]
  },
  {
   "cell_type": "code",
   "execution_count": 38,
   "metadata": {},
   "outputs": [
    {
     "name": "stderr",
     "output_type": "stream",
     "text": [
      "/var/folders/8y/j9pbnmqj2t1bn5kv9ps9lg680000gn/T/ipykernel_12041/3223644806.py:5: UserWarning: To copy construct from a tensor, it is recommended to use sourceTensor.clone().detach() or sourceTensor.clone().detach().requires_grad_(True), rather than torch.tensor(sourceTensor).\n",
      "  pos_tensor = torch.tensor(pos_embeddings, dtype=torch.float).to(device)\n",
      "/var/folders/8y/j9pbnmqj2t1bn5kv9ps9lg680000gn/T/ipykernel_12041/3223644806.py:6: UserWarning: To copy construct from a tensor, it is recommended to use sourceTensor.clone().detach() or sourceTensor.clone().detach().requires_grad_(True), rather than torch.tensor(sourceTensor).\n",
      "  neg_tensor = torch.tensor(neg_embeddings, dtype=torch.float).to(device)\n"
     ]
    },
    {
     "name": "stdout",
     "output_type": "stream",
     "text": [
      "Epoch 1, Loss: 1.7438806295394897\n",
      "Epoch 2, Loss: 1.7395426034927368\n",
      "Epoch 3, Loss: 1.7348209619522095\n",
      "Epoch 4, Loss: 1.729673981666565\n",
      "Epoch 5, Loss: 1.7240546941757202\n",
      "Epoch 6, Loss: 1.7179092168807983\n",
      "Epoch 7, Loss: 1.7111778259277344\n",
      "Epoch 8, Loss: 1.7037900686264038\n",
      "Epoch 9, Loss: 1.6956685781478882\n",
      "Epoch 10, Loss: 1.6867221593856812\n",
      "Epoch 11, Loss: 1.6768490076065063\n",
      "Epoch 12, Loss: 1.6659313440322876\n",
      "Epoch 13, Loss: 1.65383780002594\n",
      "Epoch 14, Loss: 1.6404170989990234\n",
      "Epoch 15, Loss: 1.625497817993164\n",
      "Epoch 16, Loss: 1.6088862419128418\n",
      "Epoch 17, Loss: 1.5903669595718384\n",
      "Epoch 18, Loss: 1.5696955919265747\n",
      "Epoch 19, Loss: 1.5466052293777466\n",
      "Epoch 20, Loss: 1.5208044052124023\n",
      "Epoch 21, Loss: 1.4919811487197876\n",
      "Epoch 22, Loss: 1.4598137140274048\n",
      "Epoch 23, Loss: 1.423977255821228\n",
      "Epoch 24, Loss: 1.384168028831482\n",
      "Epoch 25, Loss: 1.340123176574707\n",
      "Epoch 26, Loss: 1.291657567024231\n",
      "Epoch 27, Loss: 1.2386976480484009\n",
      "Epoch 28, Loss: 1.1813180446624756\n",
      "Epoch 29, Loss: 1.1197552680969238\n",
      "Epoch 30, Loss: 1.0543960332870483\n",
      "Epoch 31, Loss: 0.9857325553894043\n",
      "Epoch 32, Loss: 0.914306640625\n",
      "Epoch 33, Loss: 0.8406577110290527\n",
      "Epoch 34, Loss: 0.7653489112854004\n",
      "Epoch 35, Loss: 0.6890748143196106\n",
      "Epoch 36, Loss: 0.6128225326538086\n",
      "Epoch 37, Loss: 0.5379618406295776\n",
      "Epoch 38, Loss: 0.46612557768821716\n",
      "Epoch 39, Loss: 0.39888569712638855\n",
      "Epoch 40, Loss: 0.33741745352745056\n",
      "Epoch 41, Loss: 0.28234902024269104\n",
      "Epoch 42, Loss: 0.2337981015443802\n",
      "Epoch 43, Loss: 0.19157308340072632\n",
      "Epoch 44, Loss: 0.15538202226161957\n",
      "Epoch 45, Loss: 0.12490301579236984\n",
      "Epoch 46, Loss: 0.09971126168966293\n",
      "Epoch 47, Loss: 0.07921424508094788\n",
      "Epoch 48, Loss: 0.06272948533296585\n",
      "Epoch 49, Loss: 0.04961448535323143\n",
      "Epoch 50, Loss: 0.03933466225862503\n",
      "Epoch 51, Loss: 0.03144408389925957\n",
      "Epoch 52, Loss: 0.0254701916128397\n",
      "Epoch 53, Loss: 0.020906204357743263\n",
      "Epoch 54, Loss: 0.017359266057610512\n",
      "Epoch 55, Loss: 0.014590407721698284\n",
      "Epoch 56, Loss: 0.012436543591320515\n",
      "Epoch 57, Loss: 0.010747172869741917\n",
      "Epoch 58, Loss: 0.009392189793288708\n",
      "Epoch 59, Loss: 0.008282985538244247\n",
      "Epoch 60, Loss: 0.007363187614828348\n",
      "Epoch 61, Loss: 0.006589280907064676\n",
      "Epoch 62, Loss: 0.00592847028747201\n",
      "Epoch 63, Loss: 0.005359040107578039\n",
      "Epoch 64, Loss: 0.004867121111601591\n",
      "Epoch 65, Loss: 0.00444129528477788\n",
      "Epoch 66, Loss: 0.00406986428424716\n",
      "Epoch 67, Loss: 0.003741595894098282\n",
      "Epoch 68, Loss: 0.0034478127490729094\n",
      "Epoch 69, Loss: 0.003183535300195217\n",
      "Epoch 70, Loss: 0.0029459695797413588\n",
      "Epoch 71, Loss: 0.0027330219745635986\n",
      "Epoch 72, Loss: 0.0025418258737772703\n",
      "Epoch 73, Loss: 0.002369409427046776\n",
      "Epoch 74, Loss: 0.002212913939729333\n",
      "Epoch 75, Loss: 0.0020704236812889576\n",
      "Epoch 76, Loss: 0.0019404325867071748\n",
      "Epoch 77, Loss: 0.001821905723772943\n",
      "Epoch 78, Loss: 0.0017139428528025746\n",
      "Epoch 79, Loss: 0.0016153044998645782\n",
      "Epoch 80, Loss: 0.0015250860014930367\n",
      "Epoch 81, Loss: 0.0014422802487388253\n",
      "Epoch 82, Loss: 0.0013661565026268363\n",
      "Epoch 83, Loss: 0.0012962805340066552\n",
      "Epoch 84, Loss: 0.001232118345797062\n",
      "Epoch 85, Loss: 0.001173275290057063\n",
      "Epoch 86, Loss: 0.0011192577658221126\n",
      "Epoch 87, Loss: 0.0010694724041968584\n",
      "Epoch 88, Loss: 0.001023524790070951\n",
      "Epoch 89, Loss: 0.0009810201590880752\n",
      "Epoch 90, Loss: 0.0009415633976459503\n",
      "Epoch 91, Loss: 0.0009048779611475766\n",
      "Epoch 92, Loss: 0.0008708463865332305\n",
      "Epoch 93, Loss: 0.0008392116869799793\n",
      "Epoch 94, Loss: 0.0008098359103314579\n",
      "Epoch 95, Loss: 0.0007824418717063963\n",
      "Epoch 96, Loss: 0.0007569112931378186\n",
      "Epoch 97, Loss: 0.0007330858497880399\n",
      "Epoch 98, Loss: 0.0007107075653038919\n",
      "Epoch 99, Loss: 0.0006898564170114696\n",
      "Epoch 100, Loss: 0.0006702146492898464\n"
     ]
    }
   ],
   "source": [
    "from torch.utils.data import DataLoader, TensorDataset\n",
    "import torch.optim as optim\n",
    "\n",
    "# Convert embeddings to Tensor and create a DataLoader\n",
    "pos_tensor = torch.tensor(pos_embeddings, dtype=torch.float).to(device)\n",
    "neg_tensor = torch.tensor(neg_embeddings, dtype=torch.float).to(device)\n",
    "\n",
    "# Assuming all positive examples are to be paired with all negative examples\n",
    "# This may need adjustment based on your exact training setup\n",
    "dataset = TensorDataset(pos_tensor, neg_tensor)\n",
    "loader = DataLoader(dataset, batch_size=16, shuffle=True)\n",
    "\n",
    "# Optimizer\n",
    "optimizer = optim.Adam(model.parameters(), lr=1e-4)\n",
    "\n",
    "# Training loop\n",
    "epochs = 100\n",
    "for epoch in range(epochs):\n",
    "    total_loss = 0\n",
    "    for pos_batch, neg_batch in loader:\n",
    "        optimizer.zero_grad()\n",
    "        \n",
    "        # Forward pass\n",
    "        pos_embeddings = model(pos_batch.squeeze(0))  # Adjust dimensions as necessary\n",
    "        neg_embeddings = model(neg_batch.squeeze(0))  # Adjust dimensions as necessary\n",
    "        \n",
    "        # Compute loss for each positive against all negatives\n",
    "        # You might need to adapt this part depending on how your contrastive loss is implemented\n",
    "        loss = contrastive_loss(pos_embeddings, neg_embeddings)\n",
    "        \n",
    "        # Backward and optimize\n",
    "        loss.backward()\n",
    "        optimizer.step()\n",
    "        \n",
    "        total_loss += loss.item()\n",
    "    \n",
    "    print(f\"Epoch {epoch+1}, Loss: {total_loss / len(loader)}\")\n"
   ]
  },
  {
   "cell_type": "markdown",
   "metadata": {},
   "source": [
    "Attempt 2"
   ]
  },
  {
   "cell_type": "code",
   "execution_count": 67,
   "metadata": {},
   "outputs": [],
   "source": [
    "class ReasoningDataset(Dataset):\n",
    "    def __init__(self, dataframe, sent_transformer):\n",
    "        self.dataframe = dataframe\n",
    "        self.sent_transformer = sent_transformer\n",
    "\n",
    "    def __len__(self):\n",
    "        return len(self.dataframe)\n",
    "\n",
    "    def __getitem__(self, idx):\n",
    "        row = self.dataframe.iloc[idx]\n",
    "        # Encode the reasoning trace as the \"anchor\"\n",
    "        anchor_embedding = self.encode_sentences([row['Reasoning Trace']])\n",
    "        # Encode positive and negative examples\n",
    "        positive_embeddings = self.encode_sentences(row['Positive'])\n",
    "        negative_embeddings = self.encode_sentences(row['Negative'])\n",
    "        return anchor_embedding, positive_embeddings, negative_embeddings\n",
    "\n",
    "    def encode_sentences(self, sentences):\n",
    "        return self.sent_transformer.encode(sentences, batch_size=32, show_progress_bar=False)\n",
    "\n",
    "sent_transformer = SentenceTransformer('all-MiniLM-L6-v2')\n",
    "\n",
    "dataset = ReasoningDataset(df, sent_transformer)\n",
    "\n",
    "loader = DataLoader(dataset, batch_size=1, shuffle=True)"
   ]
  },
  {
   "cell_type": "code",
   "execution_count": 68,
   "metadata": {},
   "outputs": [
    {
     "name": "stdout",
     "output_type": "stream",
     "text": [
      "Epoch 1, Loss: 2.8895890353217957\n",
      "Epoch 2, Loss: 2.565844974820576\n",
      "Epoch 3, Loss: 2.5241230669475736\n",
      "Epoch 4, Loss: 2.5089127165930614\n",
      "Epoch 5, Loss: 2.5014477589773754\n",
      "Epoch 6, Loss: 2.4971468827081105\n",
      "Epoch 7, Loss: 2.4944196825935725\n",
      "Epoch 8, Loss: 2.4925365807518127\n",
      "Epoch 9, Loss: 2.4911829195325335\n",
      "Epoch 10, Loss: 2.490171300040351\n"
     ]
    }
   ],
   "source": [
    "device = torch.device(\"mps\" if torch.cuda.is_available() else \"cpu\")\n",
    "\n",
    "if torch.backends.mps.is_available():\n",
    "    device = torch.device(\"mps\")\n",
    "    print(\"Using MPS\")\n",
    "else:\n",
    "    print(\"MPS device not found, falling back to CPU.\")\n",
    "    device = torch.device(\"cpu\")\n",
    "\n",
    "model = SimpleContrastiveNetwork().to(device)\n",
    "contrastive_loss = ContrastiveLoss().to(device)\n",
    "optimizer = torch.optim.Adam(model.parameters(), lr=1e-4)\n",
    "\n",
    "def train(model, loader, optimizer, epochs=10):\n",
    "    model.train()\n",
    "    for epoch in range(epochs):\n",
    "        total_loss = 0\n",
    "        for anchor, positives, negatives in loader:\n",
    "            optimizer.zero_grad()\n",
    "            \n",
    "            anchor = anchor.to(device).squeeze(0)  # Remove batch dimension\n",
    "            positives = positives.to(device).squeeze(0)\n",
    "            negatives = negatives.to(device).squeeze(0)\n",
    "\n",
    "            anchor_embedding = model(anchor)\n",
    "            positive_embeddings = model(positives)\n",
    "            negative_embeddings = model(negatives)\n",
    "\n",
    "            combined_embeddings = torch.cat((positive_embeddings, negative_embeddings), dim=0)\n",
    "            # labels = torch.zeros(positive_embeddings.size(0), dtype=torch.long).to(device)  # Positives are the correct ones\n",
    "            loss = contrastive_loss(anchor_embedding.repeat(combined_embeddings.size(0), 1), combined_embeddings)\n",
    "\n",
    "            loss.backward()\n",
    "            optimizer.step()\n",
    "            \n",
    "            total_loss += loss.item()\n",
    "        \n",
    "        print(f\"Epoch {epoch+1}, Loss: {total_loss / len(loader)}\")\n",
    "\n",
    "train(model, loader, optimizer, epochs=10)\n"
   ]
  },
  {
   "cell_type": "code",
   "execution_count": 69,
   "metadata": {},
   "outputs": [],
   "source": [
    "new_sentences = [\"Your new sentence here.\"]\n",
    "original_embeddings = sent_transformer.encode(new_sentences)\n",
    "\n",
    "original_embeddings_tensor = torch.tensor(original_embeddings, dtype=torch.float).to(device)\n",
    "\n",
    "with torch.no_grad():\n",
    "    model.eval()\n",
    "    transformed_embeddings = model(original_embeddings_tensor)"
   ]
  },
  {
   "cell_type": "code",
   "execution_count": 73,
   "metadata": {},
   "outputs": [
    {
     "data": {
      "text/plain": [
       "array([[0.01378504, 0.02890066],\n",
       "       [0.0325819 , 0.05401296]], dtype=float32)"
      ]
     },
     "execution_count": 73,
     "metadata": {},
     "output_type": "execute_result"
    }
   ],
   "source": [
    "# transformed_embeddings = transformed_embeddings.cpu().numpy()\n",
    "\n",
    "cos_sim = cosine_similarity(\n",
    "    original_embeddings,\n",
    "    transformed_embeddings \n",
    ")\n",
    "cos_sim"
   ]
  },
  {
   "cell_type": "code",
   "execution_count": 88,
   "metadata": {},
   "outputs": [],
   "source": [
    "rand_df = df.sample(1)"
   ]
  },
  {
   "cell_type": "code",
   "execution_count": 94,
   "metadata": {},
   "outputs": [
    {
     "name": "stdout",
     "output_type": "stream",
     "text": [
      "[['Step 2: Calculate the number of tennis balls John hit out of the next 75. He hit 1/3 of the next 75 balls, so he hit (1/3) * 75 = 25 balls.', 'Step 2: Calculate the number of tennis balls Susan hit out of the next 75. He hit 1/3 of the next 75 balls, so he hit (1/3) * 75 = 25 balls.', 'Step 2: Calculate the number of tennis balls Betty hit out of the next 75. He hit 1/3 of the next 75 balls, so he hit (1/3) * 75 = 25 balls.', 'Step 2: Calculate the number of tennis balls Adam hit out of the next 75. He hit 1/3 of the next 75 balls, so he hit (1/3) * 75 = 25 balls.', 'Step 2: Calculate the number of tennis balls Bob hit out of the next 75. He hit 1/3 of the next 75 balls, so he hit (1/3) * 75 = 25 balls.', 'Step 2: Calculate the number of tennis balls Alice hit out of the next 75. He hit 1/3 of the next 75 balls, so he hit (1/3) * 75 = 25 balls.']]\n"
     ]
    }
   ],
   "source": [
    "print(rand_df['Positive'].tolist())"
   ]
  },
  {
   "cell_type": "code",
   "execution_count": 87,
   "metadata": {},
   "outputs": [
    {
     "data": {
      "text/plain": [
       "['Step 4: Mohammad added enough gummy worms to double the weight once again. This means the weight became 8 * 2 = 16 pounds.',\n",
       " \"First, let's calculate the total number of slices in the large pizzas. Since each large pizza has 16 slices, the total number of slices in the large pizzas is 2 * 16 = 32 slices.\",\n",
       " \"Now, let's calculate the profit made in a week. The profit made in a week is the selling price per DVD minus the cost per DVD, multiplied by the number of DVDs sold in a week. So, the profit made in a week is ($15 - $6) * 2500 = $22500.\",\n",
       " \"Now, let's calculate the sales for this month. We know that Mohammad sold twice as much this month, so he sold 2 * 8 = <<2*8=16>>16 large paintings.  The sales from large paintings this month would be 16 * $60 = $<<16*60=960>>960.  He also sold twice as many small paintings, so he sold 2 * 4 = <<2*4=8>>8 small paintings.  The sales from small paintings this month would be 8 * $30 = $<<8*30=240>>240.\",\n",
       " 'Therefore, the unicorn piñata and the treats cost $13 + $86 = $99 altogether.',\n",
       " 'Therefore, it will take Mohammad 5 hours to read 120 pages.',\n",
       " \"Next, let's calculate the cost of the Snickers. They bought 3 bags at $5 per bag, so the total cost of the Snickers is 3 * $5 = $15.\",\n",
       " \"Now, let's multiply his earnings per minute by the number of minutes he worked: $0.2 per minute * 50 minutes = $10\",\n",
       " \"Next, we know that if Bobbie took two letters off his last name, he would have a last name twice the length of Jamie's. Jamie's last name is Grey, which has 4 letters. So, if Bobbie's last name is x letters, then x - 2 = 2 * 4.\",\n",
       " 'Since Mohammad bought 4 tops, each top cost $20 / 4 = $<<20/4=5>>5.']"
      ]
     },
     "execution_count": 87,
     "metadata": {},
     "output_type": "execute_result"
    }
   ],
   "source": [
    "df.sample(10)['Reasoning Trace'].tolist()"
   ]
  },
  {
   "cell_type": "code",
   "execution_count": 98,
   "metadata": {},
   "outputs": [
    {
     "data": {
      "text/plain": [
       "['Step 2: Calculate the number of tennis balls John hit out of the next 75. He hit 1/3 of the next 75 balls, so he hit (1/3) * 75 = 25 balls.',\n",
       " 'Step 2: Calculate the number of tennis balls Susan hit out of the next 75. He hit 1/3 of the next 75 balls, so he hit (1/3) * 75 = 25 balls.',\n",
       " 'Step 2: Calculate the number of tennis balls Betty hit out of the next 75. He hit 1/3 of the next 75 balls, so he hit (1/3) * 75 = 25 balls.',\n",
       " \"Finally, let's calculate how many pages Mohammad writes in a year. There are 52 weeks in a year, so he writes a total of 12 x 52 = <<12*52=624>>624 pages in a year.\",\n",
       " 'First, we need to calculate the amount of money Mohammad spends on each category.  Food: 30% of $1000 = $300 Accommodation: 15% of $1000 = $150 Entertainment: 25% of $1000 = $250',\n",
       " \"Finally, let's calculate the total cost of the ingredients. The cheddar cheese costs $10, the cream cheese costs $5, and the cold cuts cost $20, so the total cost is $10 + $5 + $20 = $<<10+5+20=35>>35.\"]"
      ]
     },
     "execution_count": 98,
     "metadata": {},
     "output_type": "execute_result"
    }
   ],
   "source": [
    "new_sentences = rand_df['Positive'].tolist()[0][:3] + rand_df['Negative'].tolist()[0][:3]\n",
    "new_sentences"
   ]
  },
  {
   "cell_type": "code",
   "execution_count": 99,
   "metadata": {},
   "outputs": [
    {
     "name": "stdout",
     "output_type": "stream",
     "text": [
      "Original Embedding Cosine Similarity Matrix:\n",
      " [[1.0000004  0.91875684 0.92670006 0.22455674 0.18415436 0.10107906]\n",
      " [0.91875684 1.0000002  0.92716515 0.20406833 0.1961731  0.15837513]\n",
      " [0.92670006 0.92716515 1.0000001  0.24074642 0.20589042 0.12167417]\n",
      " [0.22455674 0.20406833 0.24074642 1.0000001  0.34604192 0.10385157]\n",
      " [0.18415436 0.1961731  0.20589042 0.34604192 1.0000001  0.32001382]\n",
      " [0.10107906 0.15837513 0.12167417 0.10385157 0.32001382 1.        ]]\n",
      "Transformed Embedding Cosine Similarity Matrix:\n",
      " [[1.         0.99095905 0.99229336 0.96267056 0.9637885  0.96387327]\n",
      " [0.99095905 1.0000002  0.99296373 0.9620806  0.96717143 0.9650275 ]\n",
      " [0.99229336 0.99296373 1.0000001  0.9604248  0.96636784 0.9630014 ]\n",
      " [0.96267056 0.9620806  0.9604248  1.         0.97158986 0.97914225]\n",
      " [0.9637885  0.96717143 0.96636784 0.97158986 1.         0.9770546 ]\n",
      " [0.96387327 0.9650275  0.9630014  0.97914225 0.9770546  1.        ]]\n"
     ]
    }
   ],
   "source": [
    "# new_sentences = []\n",
    "new_sentences = rand_df['Positive'].tolist()[0][:3] + rand_df['Negative'].tolist()[0][:3]\n",
    "\n",
    "sent_transformer = SentenceTransformer('all-MiniLM-L6-v2')\n",
    "original_embeddings = sent_transformer.encode(new_sentences, batch_size=32)\n",
    "original_embeddings_tensor = torch.tensor(original_embeddings, dtype=torch.float).to(device)\n",
    "\n",
    "model.eval()\n",
    "\n",
    "with torch.no_grad():\n",
    "    transformed_embeddings = model(original_embeddings_tensor).cpu().numpy()\n",
    "\n",
    "original_cos_sim_matrix = cosine_similarity(original_embeddings)\n",
    "\n",
    "print(\"Original Embedding Cosine Similarity Matrix:\\n\", original_cos_sim_matrix)\n",
    "\n",
    "transformed_cos_sim_matrix = cosine_similarity(transformed_embeddings)\n",
    "\n",
    "print(\"Transformed Embedding Cosine Similarity Matrix:\\n\", transformed_cos_sim_matrix)"
   ]
  },
  {
   "cell_type": "code",
   "execution_count": 78,
   "metadata": {},
   "outputs": [
    {
     "name": "stdout",
     "output_type": "stream",
     "text": [
      "Original Embedding Cosine Similarity Matrix:\n",
      " [[ 1.0000002   0.53986835  0.27538922  0.23886892  0.27677894]\n",
      " [ 0.53986835  0.9999999   0.30155277  0.23248272  0.61654377]\n",
      " [ 0.27538922  0.30155277  1.0000002   0.21186781 -0.02868765]\n",
      " [ 0.23886892  0.23248272  0.21186781  1.0000001  -0.01552333]\n",
      " [ 0.27677894  0.61654377 -0.02868765 -0.01552333  1.0000001 ]]\n",
      "Transformed Embedding Cosine Similarity Matrix:\n",
      " [[1.0000001  0.9531541  0.9180465  0.92852825 0.87054193]\n",
      " [0.9531541  0.9999999  0.9170275  0.9260527  0.91981244]\n",
      " [0.9180465  0.9170275  1.         0.90998316 0.8097435 ]\n",
      " [0.92852825 0.9260527  0.90998316 0.99999976 0.84056157]\n",
      " [0.87054193 0.91981244 0.8097435  0.84056157 0.99999976]]\n"
     ]
    }
   ],
   "source": [
    "new_sentences = [\n",
    "    \"To find out how many apples were sold in total, we add the 15 apples sold on Monday to the 20 apples sold on Tuesday.\",\n",
    "    \"Determining the total number of oranges involves subtracting the 5 oranges that spoiled from the 25 oranges we had in stock.\",\n",
    "    \"To calculate the final score, we add the 20 points from round one to the 30 points from round two.\",\n",
    "    \"We figure out the total distance traveled by adding the 100 kilometers driven on Friday to the 150 kilometers on Saturday.\",\n",
    "    \"To prevent oranges from spoiling, it is important to not keep too many in stock.\"\n",
    "]\n",
    "\n",
    "sent_transformer = SentenceTransformer('all-MiniLM-L6-v2')\n",
    "original_embeddings = sent_transformer.encode(new_sentences, batch_size=32)\n",
    "original_embeddings_tensor = torch.tensor(original_embeddings, dtype=torch.float).to(device)\n",
    "\n",
    "model.eval()\n",
    "\n",
    "with torch.no_grad():\n",
    "    transformed_embeddings = model(original_embeddings_tensor).cpu().numpy()\n",
    "\n",
    "original_cos_sim_matrix = cosine_similarity(original_embeddings)\n",
    "\n",
    "print(\"Original Embedding Cosine Similarity Matrix:\\n\", original_cos_sim_matrix)\n",
    "\n",
    "transformed_cos_sim_matrix = cosine_similarity(transformed_embeddings)\n",
    "\n",
    "print(\"Transformed Embedding Cosine Similarity Matrix:\\n\", transformed_cos_sim_matrix)"
   ]
  },
  {
   "cell_type": "code",
   "execution_count": 81,
   "metadata": {},
   "outputs": [
    {
     "data": {
      "image/png": "[encoded data removed]",
      "text/plain": [
       "<Figure size 800x600 with 2 Axes>"
      ]
     },
     "metadata": {},
     "output_type": "display_data"
    }
   ],
   "source": [
    "import matplotlib.pyplot as plt\n",
    "import seaborn as sns\n",
    "\n",
    "# Use seaborn to create a heatmap\n",
    "plt.figure(figsize=(8, 6))\n",
    "sns.heatmap(transformed_cos_sim_matrix, annot=True, cmap='coolwarm', fmt=\".2f\",\n",
    "            xticklabels=[f\"Sentence {i+1}\" for i in range(len(new_sentences))],\n",
    "            yticklabels=[f\"Sentence {i+1}\" for i in range(len(new_sentences))])\n",
    "plt.title('Cosine Similarity Matrix of Transformed Embeddings')\n",
    "plt.show()"
   ]
  }
 ],
 "metadata": {
  "kernelspec": {
   "display_name": "reasoning_venv",
   "language": "python",
   "name": "python3"
  },
  "language_info": {
   "codemirror_mode": {
    "name": "ipython",
    "version": 3
   },
   "file_extension": ".py",
   "mimetype": "text/x-python",
   "name": "python",
   "nbconvert_exporter": "python",
   "pygments_lexer": "ipython3",
   "version": "3.10.13"
  }
 },
 "nbformat": 4,
 "nbformat_minor": 2
}
