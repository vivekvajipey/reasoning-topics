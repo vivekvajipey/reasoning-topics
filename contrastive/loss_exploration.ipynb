{
 "cells": [
  {
   "cell_type": "code",
   "execution_count": 8,
   "metadata": {},
   "outputs": [
    {
     "data": {
      "text/plain": [
       "array([[0.95901406]], dtype=float32)"
      ]
     },
     "execution_count": 8,
     "metadata": {},
     "output_type": "execute_result"
    }
   ],
   "source": [
    "from sentence_transformers import SentenceTransformer\n",
    "from sklearn.metrics.pairwise import cosine_similarity\n",
    "\n",
    "sent_transformer = SentenceTransformer('all-MiniLM-L6-v2')\n",
    "\n",
    "emb1 = sent_transformer.encode([\"Alice has 3 apples and Bob has 2 apples, how many apples do they both have?\"])\n",
    "emb2 = sent_transformer.encode([\"Carol has 3 cars and David has 2 cars, how many cars do they both have?\"])\n",
    "emb3 = sent_transformer.encode([\"3 apples belong to Alice and 2 apples belong to Bob, how many apples do they both have?\"])\n",
    "\n",
    "cosine_similarity(emb1, emb3)"
   ]
  },
  {
   "cell_type": "code",
   "execution_count": null,
   "metadata": {},
   "outputs": [],
   "source": []
  }
 ],
 "metadata": {
  "kernelspec": {
   "display_name": "reasoning",
   "language": "python",
   "name": "python3"
  },
  "language_info": {
   "codemirror_mode": {
    "name": "ipython",
    "version": 3
   },
   "file_extension": ".py",
   "mimetype": "text/x-python",
   "name": "python",
   "nbconvert_exporter": "python",
   "pygments_lexer": "ipython3",
   "version": "3.10.13"
  }
 },
 "nbformat": 4,
 "nbformat_minor": 2
}
