{
 "cells": [
  {
   "cell_type": "code",
   "execution_count": 1,
   "metadata": {},
   "outputs": [
    {
     "name": "stderr",
     "output_type": "stream",
     "text": [
      "/Users/vivekvajipey/miniconda3/envs/reasoning/lib/python3.10/site-packages/tqdm/auto.py:21: TqdmWarning: IProgress not found. Please update jupyter and ipywidgets. See https://ipywidgets.readthedocs.io/en/stable/user_install.html\n",
      "  from .autonotebook import tqdm as notebook_tqdm\n"
     ]
    }
   ],
   "source": [
    "from sentence_transformers import SentenceTransformer"
   ]
  },
  {
   "cell_type": "code",
   "execution_count": 3,
   "metadata": {},
   "outputs": [],
   "source": [
    "og_model = SentenceTransformer('all-MiniLM-L6-v2')\n",
    "finetuned_model = SentenceTransformer(\"sbert_models/sbert_all-MiniLM-L6-v2b8e1\")"
   ]
  },
  {
   "cell_type": "code",
   "execution_count": null,
   "metadata": {},
   "outputs": [],
   "source": [
    "import torch\n",
    "from sentence_transformers import SentenceTransformer\n",
    "\n",
    "def plot_first_row_cosine_similarity(new_sentences, og_model, finetuned_model):\n",
    "    original_embeddings = sent_transformer.encode(new_sentences, batch_size=32)\n",
    "    original_embeddings_tensor = torch.tensor(original_embeddings, dtype=torch.float).to(device)\n",
    "\n",
    "    model.eval()\n",
    "\n",
    "    with torch.no_grad():\n",
    "        transformed_embeddings = model(original_embeddings_tensor).cpu().numpy()\n",
    "\n",
    "    original_cos_sim_matrix = cosine_similarity(original_embeddings)\n",
    "    transformed_cos_sim_matrix = cosine_similarity(transformed_embeddings)\n",
    "\n",
    "    original_first_row = original_cos_sim_matrix[0, :]\n",
    "    transformed_first_row = transformed_cos_sim_matrix[0, :]\n",
    "\n",
    "    # Plotting the original embeddings' first row cosine similarity\n",
    "    plt.figure(figsize=(10, 2))\n",
    "    sns.barplot(x=[f\"Sentence {i+1}\" for i in range(len(new_sentences))], y=original_first_row, palette=\"mako_r\")\n",
    "    plt.title('Original all-MiniLM-L6-v2 Cosine Similarity of First Embedding with Others')\n",
    "    plt.ylabel('Cosine Similarity')\n",
    "    plt.xticks(rotation=45)\n",
    "    plt.show()\n",
    "\n",
    "    # Plotting the transformed embeddings' first row cosine similarity\n",
    "    plt.figure(figsize=(10, 2))\n",
    "    sns.barplot(x=[f\"Sentence {i+1}\" for i in range(len(new_sentences))], y=transformed_first_row, palette=\"mako_r\")\n",
    "    plt.title(' Finetuned all-MiniLM-L6-v2 (1 epoch): Cosine Similarity of First Embedding with Others')\n",
    "    plt.ylabel('Cosine Similarity')\n",
    "    plt.xticks(rotation=45)\n",
    "    plt.show()\n",
    "\n",
    "plot_first_row_cosine_similarity(new_sentences)"
   ]
  }
 ],
 "metadata": {
  "kernelspec": {
   "display_name": "reasoning",
   "language": "python",
   "name": "python3"
  },
  "language_info": {
   "codemirror_mode": {
    "name": "ipython",
    "version": 3
   },
   "file_extension": ".py",
   "mimetype": "text/x-python",
   "name": "python",
   "nbconvert_exporter": "python",
   "pygments_lexer": "ipython3",
   "version": "3.10.13"
  }
 },
 "nbformat": 4,
 "nbformat_minor": 2
}
