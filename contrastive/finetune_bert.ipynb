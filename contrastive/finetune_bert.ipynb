{
 "cells": [
  {
   "cell_type": "code",
   "execution_count": 1,
   "metadata": {},
   "outputs": [
    {
     "name": "stderr",
     "output_type": "stream",
     "text": [
      "/Users/vivekvajipey/miniconda3/envs/reasoning/lib/python3.10/site-packages/tqdm/auto.py:21: TqdmWarning: IProgress not found. Please update jupyter and ipywidgets. See https://ipywidgets.readthedocs.io/en/stable/user_install.html\n",
      "  from .autonotebook import tqdm as notebook_tqdm\n",
      "/Users/vivekvajipey/miniconda3/envs/reasoning/lib/python3.10/site-packages/transformers/utils/generic.py:311: UserWarning: torch.utils._pytree._register_pytree_node is deprecated. Please use torch.utils._pytree.register_pytree_node instead.\n",
      "  torch.utils._pytree._register_pytree_node(\n"
     ]
    }
   ],
   "source": [
    "from sentence_transformers import SentenceTransformer, InputExample, losses\n",
    "from torch.utils.data import DataLoader\n",
    "import torch"
   ]
  },
  {
   "cell_type": "code",
   "execution_count": null,
   "metadata": {},
   "outputs": [],
   "source": [
    "device = torch.device(\"mps\" if torch.backends.mps.is_available() else \"cpu\")"
   ]
  },
  {
   "cell_type": "code",
   "execution_count": null,
   "metadata": {},
   "outputs": [],
   "source": [
    "model = SentenceTransformer(\"all-MiniLM-L6-v2\").to(device)"
   ]
  },
  {
   "cell_type": "markdown",
   "metadata": {},
   "source": [
    "Default Cosine Similarity Method"
   ]
  },
  {
   "cell_type": "code",
   "execution_count": null,
   "metadata": {},
   "outputs": [],
   "source": [
    "train_examples = [\n",
    "    InputExample(texts=[\n",
    "        \"Step 2: Convert the length of the newest movie from hours to minutes. Since there are 60 minutes in an hour, we can calculate the length of the newest movie in minutes by multiplying the length in hours by 60. 3.2 hours * 60 minutes/hour = 192 minutes\", \n",
    "        \"Step 2: Convert the bake time of the larger cake from hours to minutes. There are 60 minutes in an hour, so we calculate the bake time of the larger cake in minutes by multiplying the bake time in hours by 60. 3.2 hours * 60 minutes/hour = 192 minutes.\"\n",
    "        ], \n",
    "        label=1.0),\n",
    "    InputExample(texts=[\n",
    "        \"Step 2: Convert the length of the newest movie from hours to minutes. Since there are 60 minutes in an hour, we can calculate the length of the newest movie in minutes by multiplying the length in hours by 60. 3.2 hours * 60 minutes/hour = 192 minutes\", \n",
    "        \"To convert this back to inches, we multiply by 12: 4.16 feet * 12 inches/foot = 49.92 inches\"\n",
    "        ], \n",
    "        label=0.0),\n",
    "]"
   ]
  },
  {
   "cell_type": "code",
   "execution_count": null,
   "metadata": {},
   "outputs": [],
   "source": [
    "train_dataloader = DataLoader(train_examples, shuffle=True, batch_size=16)\n",
    "train_loss = losses.CosineSimilarityLoss(model)"
   ]
  },
  {
   "cell_type": "code",
   "execution_count": null,
   "metadata": {},
   "outputs": [],
   "source": [
    "model.fit(train_objectives=[(train_dataloader, train_loss)], epochs=1, warmup_steps=100)"
   ]
  },
  {
   "cell_type": "markdown",
   "metadata": {},
   "source": [
    "Contrastive Loss Method"
   ]
  },
  {
   "cell_type": "code",
   "execution_count": 2,
   "metadata": {},
   "outputs": [],
   "source": [
    "import pandas as pd\n",
    "df = pd.read_csv('data/gsm8k_cl_trans_para1_112_autosplit.csv')\n",
    "train_df = df.loc[df.split == 'train']\n",
    "val_df = df.loc[df.split == 'val']"
   ]
  },
  {
   "cell_type": "code",
   "execution_count": 6,
   "metadata": {},
   "outputs": [],
   "source": [
    "from sentence_transformers import SentenceTransformer, losses\n",
    "from sentence_transformers.readers import InputExample\n",
    "from sentence_transformers.evaluation import EmbeddingSimilarityEvaluator\n",
    "from torch.utils.data import DataLoader\n",
    "# from sentence_transformers_evaluator import LossEvaluator\n",
    "\n",
    "\n",
    "device = torch.device(\"mps\" if torch.backends.mps.is_available() else \"cpu\")\n",
    "model = SentenceTransformer('all-MiniLM-L6-v2').to(device)\n",
    "\n",
    "train_examples = []\n",
    "for idx, row in train_df[:5].iterrows():\n",
    "    train_examples.append(InputExample(texts=[row['Reasoning Trace'], row['Positive'][0]], label=1))\n",
    "    for neg_ex in row['Negative']:\n",
    "        train_examples.append(InputExample(texts=[row['Reasoning Trace'], neg_ex], label=0))\n",
    "\n",
    "train_batch_size = 8\n",
    "train_dataloader = DataLoader(train_examples, shuffle=True, batch_size=train_batch_size)\n",
    "train_loss = losses.ContrastiveLoss(model=model)\n",
    "\n",
    "val_examples = []\n",
    "for idx, row in val_df[:3].iterrows():\n",
    "    val_examples.append(InputExample(texts=[row['Reasoning Trace'], row['Positive'][0]], label=1))\n",
    "    for neg_ex in row['Negative']:\n",
    "        val_examples.append(InputExample(texts=[row['Reasoning Trace'], neg_ex], label=0))\n",
    "\n",
    "val_loader = DataLoader(val_examples, batch_size=64)\n",
    "# val_evaluator = LossEvaluator(val_loader, loss_model=train_loss, log_dir='logs/', name='all-MiniLM-L6-v2-val_trial0')\n",
    "val_evaluator = EmbeddingSimilarityEvaluator.from_input_examples(\n",
    "    val_examples, batch_size=train_batch_size, name='all-MiniLM-L6-v2-val_trial0'\n",
    ")"
   ]
  },
  {
   "cell_type": "code",
   "execution_count": 8,
   "metadata": {},
   "outputs": [
    {
     "name": "stderr",
     "output_type": "stream",
     "text": [
      "Iteration: 100%|██████████| 881/881 [01:31<00:00,  9.66it/s]\n",
      "Epoch: 100%|██████████| 1/1 [01:41<00:00, 101.84s/it]\n"
     ]
    }
   ],
   "source": [
    "model.fit(train_objectives=[(train_dataloader, train_loss)], epochs=1, warmup_steps=1, evaluator=val_evaluator, evaluation_steps=10000)"
   ]
  }
 ],
 "metadata": {
  "kernelspec": {
   "display_name": "reasoning",
   "language": "python",
   "name": "python3"
  },
  "language_info": {
   "codemirror_mode": {
    "name": "ipython",
    "version": 3
   },
   "file_extension": ".py",
   "mimetype": "text/x-python",
   "name": "python",
   "nbconvert_exporter": "python",
   "pygments_lexer": "ipython3",
   "version": "3.10.13"
  }
 },
 "nbformat": 4,
 "nbformat_minor": 2
}
